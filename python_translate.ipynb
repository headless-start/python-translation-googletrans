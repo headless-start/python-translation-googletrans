{
 "cells": [
  {
   "cell_type": "code",
   "execution_count": 8,
   "id": "d1497e48-f1b3-49fc-a76a-8fdab34102ee",
   "metadata": {},
   "outputs": [],
   "source": [
    "import pandas as pd\n",
    "from googletrans import Translator"
   ]
  },
  {
   "cell_type": "code",
   "execution_count": 9,
   "id": "f5fced1a-b73e-44d4-b4a4-5bfa327efd52",
   "metadata": {},
   "outputs": [
    {
     "name": "stdout",
     "output_type": "stream",
     "text": [
      "Original Data:\n",
      "      Names\n",
      "0       बाग\n",
      "1      होटल\n",
      "2       झील\n",
      "3      कंबल\n",
      "4     दीवार\n",
      "..      ...\n",
      "995    चर्च\n",
      "996    अदरक\n",
      "997  कुर्सी\n",
      "998   पपीता\n",
      "999    अदरक\n",
      "\n",
      "[1000 rows x 1 columns]\n"
     ]
    }
   ],
   "source": [
    "data = pd.read_csv(\"/home/ayush/Downloads/hindi_names.csv\")\n",
    "print(\"Original Data:\")\n",
    "print(data)\n"
   ]
  },
  {
   "cell_type": "code",
   "execution_count": 10,
   "id": "8809a632-40c1-44dc-922d-35721211fe5b",
   "metadata": {},
   "outputs": [],
   "source": [
    "translator = Translator()\n",
    "translations = {}\n",
    "\n",
    "def translate_text(text, dest_lang):\n",
    "    try:\n",
    "        return translator.translate(text, dest=dest_lang).text\n",
    "    except Exception as e:\n",
    "        print(f\"Error translating '{text}' to {dest_lang}: {e}\")\n",
    "        return text\n",
    "\n",
    "\n",
    "for column in data.columns:\n",
    "    unique = data[column].unique()\n",
    "    for element in unique:\n",
    "        eng_translation = translate_text(element, \"en\")\n",
    "        ger_translation = translate_text(element, \"de\")\n",
    "        pol_translation = translate_text(element, \"pl\")\n",
    "        translations[element] = (eng_translation, ger_translation, pol_translation)"
   ]
  },
  {
   "cell_type": "code",
   "execution_count": 11,
   "id": "05f9b81d-83d6-4c4d-adf9-9b3f52419aab",
   "metadata": {},
   "outputs": [
    {
     "name": "stdout",
     "output_type": "stream",
     "text": [
      "Translated Data:\n",
      "      Names English_Translation German_Translation Polish_Translation\n",
      "0       बाग              Garden             Garten              Ogród\n",
      "1      होटल               Hotel              Hotel              Hotel\n",
      "2       झील                Lake                See            Jezioro\n",
      "3      कंबल             blanket              Decke                koc\n",
      "4     दीवार                Wall               Wand             Ściana\n",
      "..      ...                 ...                ...                ...\n",
      "995    चर्च              Church             Kirche            Kościół\n",
      "996    अदरक              Ginger             Ingwer             Ożywić\n",
      "997  कुर्सी               Chair              Stuhl            Krzesło\n",
      "998   पपीता              Papaya             Papaya             Papaja\n",
      "999    अदरक              Ginger             Ingwer             Ożywić\n",
      "\n",
      "[1000 rows x 4 columns]\n"
     ]
    }
   ],
   "source": [
    "data[\"English_Translation\"] = data[data.columns[0]].map(lambda x: translations[x][0])\n",
    "data[\"German_Translation\"] = data[data.columns[0]].map(lambda x: translations[x][1])\n",
    "data[\"Polish_Translation\"] = data[data.columns[0]].map(lambda x: translations[x][2])\n",
    "\n",
    "# Display results\n",
    "print(\"Translated Data:\")\n",
    "print(data)"
   ]
  },
  {
   "cell_type": "code",
   "execution_count": null,
   "id": "f7662c25-68e2-40b7-9600-efb6e93f6d45",
   "metadata": {},
   "outputs": [],
   "source": []
  }
 ],
 "metadata": {
  "kernelspec": {
   "display_name": "Python 3 (ipykernel)",
   "language": "python",
   "name": "python3"
  },
  "language_info": {
   "codemirror_mode": {
    "name": "ipython",
    "version": 3
   },
   "file_extension": ".py",
   "mimetype": "text/x-python",
   "name": "python",
   "nbconvert_exporter": "python",
   "pygments_lexer": "ipython3",
   "version": "3.12.3"
  }
 },
 "nbformat": 4,
 "nbformat_minor": 5
}
