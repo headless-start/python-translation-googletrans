{
 "cells": [
  {
   "cell_type": "code",
   "execution_count": 5,
   "id": "d1497e48-f1b3-49fc-a76a-8fdab34102ee",
   "metadata": {},
   "outputs": [],
   "source": [
    "import pandas as pd\n",
    "from googletrans import Translator"
   ]
  },
  {
   "cell_type": "code",
   "execution_count": 9,
   "id": "f5fced1a-b73e-44d4-b4a4-5bfa327efd52",
   "metadata": {},
   "outputs": [
    {
     "name": "stdout",
     "output_type": "stream",
     "text": [
      "      Names\n",
      "0       बाग\n",
      "1      होटल\n",
      "2       झील\n",
      "3      कंबल\n",
      "4     दीवार\n",
      "..      ...\n",
      "995    चर्च\n",
      "996    अदरक\n",
      "997  कुर्सी\n",
      "998   पपीता\n",
      "999    अदरक\n",
      "\n",
      "[1000 rows x 1 columns]\n"
     ]
    }
   ],
   "source": [
    "data = pd.read_csv(\"/home/ayush/Downloads/hindi_names.csv\")\n",
    "print(data)"
   ]
  },
  {
   "cell_type": "code",
   "execution_count": 11,
   "id": "9795e3b0-4641-462a-b9bc-77bbe0d10459",
   "metadata": {},
   "outputs": [
    {
     "name": "stdout",
     "output_type": "stream",
     "text": [
      "बाग Garden\n",
      "होटल Hotel\n",
      "झील Lake\n",
      "कंबल blanket\n",
      "दीवार Wall\n",
      "पर्वत Mountain\n",
      "अदरक Ginger\n",
      "अंगूर Grape\n",
      "खिड़की window\n",
      "साइकिल Bicycle\n",
      "कमरा room\n",
      "बैगन Brinjal\n",
      "मंदिर Temple\n",
      "स्कूल School\n",
      "गाड़ी Vehicle\n",
      "खीरा Cucumber\n",
      "केला Banned\n",
      "शिमला मिर्च Capsicum\n",
      "मक्का Maize\n",
      "ट्रेन Train\n",
      "गद्दा Mattress\n",
      "कॉलेज College\n",
      "ट्रक truck\n",
      "टेबल Table\n",
      "दालान Hachen\n",
      "पपीता Papaya\n",
      "सड़क road\n",
      "समुद्र Sea\n",
      "मस्जिद Mosque\n",
      "विश्वविद्यालय university\n",
      "अनार Pomegranate\n",
      "कढ़ी पत्ता Kadhi leaf\n",
      "मोटरसाइकिल Motorcycle\n",
      "गुरुद्वारा Gurudwara\n",
      "बालकनी Balcony\n",
      "सेब Apple\n",
      "चर्च Church\n",
      "रसोई Kitchen\n",
      "गाजर Carrot\n",
      "रिक्षा Ridding\n",
      "रेगिस्तान Desert\n",
      "अस्पताल hospital\n",
      "कंप्यूटर Computer\n",
      "दरवाजा Door\n",
      "तरबूज watermelon\n",
      "पहाड़ Mountain\n",
      "टैक्सी Taxi\n",
      "लहसुन Garlic\n",
      "अमरूद Guava\n",
      "मोबाइल Mobile\n",
      "खरबूजा muskmelon\n",
      "संतरा Orange\n",
      "बाथरूम Bathroom\n",
      "तालाब Pond\n",
      "नाशपाती Pear\n",
      "पेन pen\n",
      "हवाई जहाज airplane\n",
      "नदी River\n",
      "बिस्तर Bed\n",
      "तकिया Pillow\n",
      "किताब Book\n",
      "जंगल Forest\n",
      "बस Bus\n",
      "घर Home\n",
      "मैदान Field\n",
      "छत Roof\n",
      "चादर Sheet\n",
      "कुर्सी Chair\n",
      "भिन्डी Bindi\n",
      "लाल मिर्च red chilli\n"
     ]
    }
   ],
   "source": [
    "translator = Translator()\n",
    "translations = {}\n",
    "\n",
    "for column in data.columns:\n",
    "    unique = data[column].unique()\n",
    "    for element in unique:\n",
    "        translation = translator.translate(element)\n",
    "        translations[element] = translation.text\n",
    "\n",
    "for key, value in translations.items():\n",
    "    print(key, value)"
   ]
  },
  {
   "cell_type": "code",
   "execution_count": 12,
   "id": "05f9b81d-83d6-4c4d-adf9-9b3f52419aab",
   "metadata": {},
   "outputs": [
    {
     "name": "stdout",
     "output_type": "stream",
     "text": [
      "       Names\n",
      "0     Garden\n",
      "1      Hotel\n",
      "2       Lake\n",
      "3    blanket\n",
      "4       Wall\n",
      "..       ...\n",
      "995   Church\n",
      "996   Ginger\n",
      "997    Chair\n",
      "998   Papaya\n",
      "999   Ginger\n",
      "\n",
      "[1000 rows x 1 columns]\n"
     ]
    }
   ],
   "source": [
    "data.replace(translations, inplace=True)\n",
    "print(data)"
   ]
  },
  {
   "cell_type": "code",
   "execution_count": null,
   "id": "f7662c25-68e2-40b7-9600-efb6e93f6d45",
   "metadata": {},
   "outputs": [],
   "source": []
  }
 ],
 "metadata": {
  "kernelspec": {
   "display_name": "Python 3 (ipykernel)",
   "language": "python",
   "name": "python3"
  },
  "language_info": {
   "codemirror_mode": {
    "name": "ipython",
    "version": 3
   },
   "file_extension": ".py",
   "mimetype": "text/x-python",
   "name": "python",
   "nbconvert_exporter": "python",
   "pygments_lexer": "ipython3",
   "version": "3.12.3"
  }
 },
 "nbformat": 4,
 "nbformat_minor": 5
}
